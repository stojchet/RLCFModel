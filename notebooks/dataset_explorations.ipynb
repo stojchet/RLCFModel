{
 "cells": [
  {
   "metadata": {},
   "cell_type": "markdown",
   "source": [
    "## Dataset processing steps\n",
    "1. Original seed dataset\n",
    "2. Base dataset (for SFT model training and creation of KTO/DPO datasets)\n",
    "3. KTO/DPO datasets"
   ],
   "id": "88135c27ad2cea7"
  },
  {
   "metadata": {},
   "cell_type": "markdown",
   "source": [
    "## 1. Seed dataset\n",
    "\n",
    "Seed dataset is code_search_net for Java and Python and KExercises for Kotlin.\n",
    "The seed dataset is filtered as follows:\n",
    "- **Filter code based on its size**\n",
    "- **Filter documentation based on its size**\n",
    "- **Filter code by counting spaces**\n",
    "- **Remove documentation with \"TODO\" mentions**\n",
    "- **Filter code quality and content**: remove examples with long functions and long if/while bodies\n",
    "- **Filter code references that don't compile**\n",
    "- ..\n"
   ],
   "id": "45d475201a32b611"
  },
  {
   "metadata": {},
   "cell_type": "markdown",
   "source": [
    "KExercises keys:\n",
    "```\n",
    "{\n",
    "    \"problem\",\n",
    "    \"solution\"\n",
    "}\n",
    "```\n",
    "\n",
    "KExercises example"
   ],
   "id": "91b4fe5215103147"
  },
  {
   "metadata": {
    "ExecuteTime": {
     "end_time": "2025-03-11T21:06:29.857100Z",
     "start_time": "2025-03-11T21:06:22.909898Z"
    }
   },
   "cell_type": "code",
   "source": [
    "from datasets import load_dataset\n",
    "from pprint import pprint\n",
    "\n",
    "kexercises_dataset = load_dataset(\"JetBrains/KExercises\", split=\"train\", trust_remote_code=True)\n",
    "pprint(kexercises_dataset[0])"
   ],
   "id": "c5c214862b98e89f",
   "outputs": [
    {
     "data": {
      "text/plain": [
       "README.md:   0%|          | 0.00/1.92k [00:00<?, ?B/s]"
      ],
      "application/vnd.jupyter.widget-view+json": {
       "version_major": 2,
       "version_minor": 0,
       "model_id": "e3b02e6183a94d07951b828bb19af094"
      }
     },
     "metadata": {},
     "output_type": "display_data"
    },
    {
     "name": "stdout",
     "output_type": "stream",
     "text": [
      "{'problem': '/**\\n'\n",
      "            ' * This exercise requires you to iterate over a specific range of '\n",
      "            'numbers and perform XOR operation on them.\\n'\n",
      "            ' *\\n'\n",
      "            ' * @param numbers A list of numbers\\n'\n",
      "            ' * @param start The start index of the range\\n'\n",
      "            ' * @param end The end index of the range\\n'\n",
      "            ' * @return The XOR result of all numbers in the specified range\\n'\n",
      "            ' */\\n'\n",
      "            'fun xorOperation(numbers: List<Int>, start: Int, end: Int): Int {',\n",
      " 'solution': '\\n'\n",
      "             '    var result = 0\\n'\n",
      "             '\\n'\n",
      "             '    for (i in start..end) {  // iterating over the specified '\n",
      "             'range\\n'\n",
      "             '        result = result xor numbers[i]  // performing XOR '\n",
      "             'operation\\n'\n",
      "             '    }\\n'\n",
      "             '\\n'\n",
      "             '    return result\\n'\n",
      "             '}\\n'\n",
      "             '\\n'\n",
      "             '// Example usage'}\n"
     ]
    }
   ],
   "execution_count": 1
  },
  {
   "metadata": {},
   "cell_type": "markdown",
   "source": [
    "## Base dataset\n",
    "Base dataset is linked to a model.\n",
    "\n",
    "It contains model predictions for every problem. ANd it has some of the necessary information extracted from the seed dataset.\n",
    "\n",
    "Base dataset keys:\n",
    "\n",
    "- code_completion is the code reference (comes from naming in code_search_net)\n",
    "\n",
    "- prompt is the problem (when is sent to the LLM)\n",
    "\n",
    "```\n",
    "{\n",
    "    \"code_completion\",\n",
    "    \"documentation\",\n",
    "    \"func_name\",\n",
    "    \"function_def\",\n",
    "    \"language\",\n",
    "    \"prediction\",\n",
    "    \"prompt\",\n",
    "    \"whole_func_string\"\n",
    "}\n",
    "```\n",
    "\n",
    "Base dataset example:"
   ],
   "id": "4ef2614d85f93eae"
  },
  {
   "metadata": {
    "ExecuteTime": {
     "end_time": "2025-03-11T21:06:33.276098Z",
     "start_time": "2025-03-11T21:06:29.895166Z"
    }
   },
   "cell_type": "code",
   "source": [
    "base_dataset = load_dataset(\"stojchet/deepseek_bs1_kotlin-empty\", split=\"train\", trust_remote_code=True)\n",
    "pprint(base_dataset[0])"
   ],
   "id": "fd62f98c256e6b0c",
   "outputs": [
    {
     "name": "stdout",
     "output_type": "stream",
     "text": [
      "{'code_completion': '\\n'\n",
      "                    \"    val vowels = listOf('a', 'e', 'i', 'o', 'u')\\n\"\n",
      "                    '    var vowelsCount = 0\\n'\n",
      "                    '    var modifiedText = text\\n'\n",
      "                    '\\n'\n",
      "                    '    for (char in text) {\\n'\n",
      "                    '        if (char.toLowerCase() in vowels) {\\n'\n",
      "                    '            modifiedText = '\n",
      "                    'modifiedText.replace(char.toString(), \"*\")\\n'\n",
      "                    '            vowelsCount++\\n'\n",
      "                    '        }\\n'\n",
      "                    '    }\\n'\n",
      "                    '\\n'\n",
      "                    '    return Pair(modifiedText, vowelsCount)\\n'\n",
      "                    '}',\n",
      " 'documentation': '/**\\n'\n",
      "                  ' * This function counts the number of vowels in a given '\n",
      "                  'text and replaces them with asterisks.\\n'\n",
      "                  ' */',\n",
      " 'func_name': 'countVowels',\n",
      " 'function_def': 'fun countVowels(text: String): Pair<String, Int> {',\n",
      " 'language': 'kotlin',\n",
      " 'prediction': '/**\\n'\n",
      "               ' * This function counts the number of vowels in a given text '\n",
      "               'and replaces them with asterisks.\\n'\n",
      "               ' */\\n'\n",
      "               'fun countVowels(text: String): Pair<String, Int> {\\n'\n",
      "               ' // Define the vowels.\\n'\n",
      "               \"    val vowels = mutableListOf<Char>('a', 'e', 'i', 'o', 'u')\\n\"\n",
      "               ' // Loop over the characters of the text.\\n'\n",
      "               '    var newText = text\\n'\n",
      "               '    for ((idx, letter) in text.withIndex()) {\\n'\n",
      "               '        if (vowels.contains(Character.toLowerCase(letter))) {\\n'\n",
      "               '            newText = newText.replaceRange(idx, idx + 1, \"*\")\\n'\n",
      "               '        }\\n'\n",
      "               '    }\\n'\n",
      "               ' // Count the number of vowels.\\n'\n",
      "               '    val vowelCountString = newText.count { c -> '\n",
      "               'vowels.contains(c) }.toString()\\n'\n",
      "               ' // Return the amount of vowels.\\n'\n",
      "               '    return Pair(newText, vowelCountString.toInt())\\n'\n",
      "               '}\\n'\n",
      "               '\\n'\n",
      "               'fun main() {\\n'\n",
      "               '    val text = countVowels(System.console()!!.readLine()!!)\\n'\n",
      "               '    println(\"Original text: ${text.first}\\\\nWords with count: '\n",
      "               '${text.second}\")\\n'\n",
      "               '}\\n',\n",
      " 'prompt': '/**\\n'\n",
      "           ' * This function counts the number of vowels in a given text and '\n",
      "           'replaces them with asterisks.\\n'\n",
      "           ' */\\n'\n",
      "           'fun countVowels(text: String): Pair<String, Int> {',\n",
      " 'whole_func_string': '/**\\n'\n",
      "                      ' * This function counts the number of vowels in a given '\n",
      "                      'text and replaces them with asterisks.\\n'\n",
      "                      ' */\\n'\n",
      "                      'fun countVowels(text: String): Pair<String, Int> {\\n'\n",
      "                      '\\n'\n",
      "                      \"    val vowels = listOf('a', 'e', 'i', 'o', 'u')\\n\"\n",
      "                      '    var vowelsCount = 0\\n'\n",
      "                      '    var modifiedText = text\\n'\n",
      "                      '\\n'\n",
      "                      '    for (char in text) {\\n'\n",
      "                      '        if (char.toLowerCase() in vowels) {\\n'\n",
      "                      '            modifiedText = '\n",
      "                      'modifiedText.replace(char.toString(), \"*\")\\n'\n",
      "                      '            vowelsCount++\\n'\n",
      "                      '        }\\n'\n",
      "                      '    }\\n'\n",
      "                      '\\n'\n",
      "                      '    return Pair(modifiedText, vowelsCount)\\n'\n",
      "                      '}'}\n"
     ]
    }
   ],
   "execution_count": 2
  },
  {
   "metadata": {},
   "cell_type": "markdown",
   "source": [
    "## KTO dataset\n",
    "\n",
    "- label is a binary True/False label based on whether `prompt + \"\\n\" + completion` compiles.\n",
    "\n",
    "- all dataset references are added with label True.\n",
    "- all model completion that don't compile are added with label False.\n",
    "- possibly model completion are corrupted by modifying keywords or symbols and added with label False.\n",
    "\n",
    "```\n",
    "{\n",
    "    \"prompt\",\n",
    "    \"completion\",\n",
    "    \"label\",\n",
    "}\n",
    "```\n"
   ],
   "id": "6bc59d0e77f8d5cf"
  },
  {
   "metadata": {
    "ExecuteTime": {
     "end_time": "2025-03-11T21:06:35.627692Z",
     "start_time": "2025-03-11T21:06:33.371460Z"
    }
   },
   "cell_type": "code",
   "source": [
    "kto_dataset = load_dataset(\"stojchet/deepseek_bs1_kotlin-empty\", split=\"train\", trust_remote_code=True)\n",
    "pprint(kto_dataset[0])"
   ],
   "id": "758156a465d017b3",
   "outputs": [
    {
     "name": "stdout",
     "output_type": "stream",
     "text": [
      "{'code_completion': '\\n'\n",
      "                    \"    val vowels = listOf('a', 'e', 'i', 'o', 'u')\\n\"\n",
      "                    '    var vowelsCount = 0\\n'\n",
      "                    '    var modifiedText = text\\n'\n",
      "                    '\\n'\n",
      "                    '    for (char in text) {\\n'\n",
      "                    '        if (char.toLowerCase() in vowels) {\\n'\n",
      "                    '            modifiedText = '\n",
      "                    'modifiedText.replace(char.toString(), \"*\")\\n'\n",
      "                    '            vowelsCount++\\n'\n",
      "                    '        }\\n'\n",
      "                    '    }\\n'\n",
      "                    '\\n'\n",
      "                    '    return Pair(modifiedText, vowelsCount)\\n'\n",
      "                    '}',\n",
      " 'documentation': '/**\\n'\n",
      "                  ' * This function counts the number of vowels in a given '\n",
      "                  'text and replaces them with asterisks.\\n'\n",
      "                  ' */',\n",
      " 'func_name': 'countVowels',\n",
      " 'function_def': 'fun countVowels(text: String): Pair<String, Int> {',\n",
      " 'language': 'kotlin',\n",
      " 'prediction': '/**\\n'\n",
      "               ' * This function counts the number of vowels in a given text '\n",
      "               'and replaces them with asterisks.\\n'\n",
      "               ' */\\n'\n",
      "               'fun countVowels(text: String): Pair<String, Int> {\\n'\n",
      "               ' // Define the vowels.\\n'\n",
      "               \"    val vowels = mutableListOf<Char>('a', 'e', 'i', 'o', 'u')\\n\"\n",
      "               ' // Loop over the characters of the text.\\n'\n",
      "               '    var newText = text\\n'\n",
      "               '    for ((idx, letter) in text.withIndex()) {\\n'\n",
      "               '        if (vowels.contains(Character.toLowerCase(letter))) {\\n'\n",
      "               '            newText = newText.replaceRange(idx, idx + 1, \"*\")\\n'\n",
      "               '        }\\n'\n",
      "               '    }\\n'\n",
      "               ' // Count the number of vowels.\\n'\n",
      "               '    val vowelCountString = newText.count { c -> '\n",
      "               'vowels.contains(c) }.toString()\\n'\n",
      "               ' // Return the amount of vowels.\\n'\n",
      "               '    return Pair(newText, vowelCountString.toInt())\\n'\n",
      "               '}\\n'\n",
      "               '\\n'\n",
      "               'fun main() {\\n'\n",
      "               '    val text = countVowels(System.console()!!.readLine()!!)\\n'\n",
      "               '    println(\"Original text: ${text.first}\\\\nWords with count: '\n",
      "               '${text.second}\")\\n'\n",
      "               '}\\n',\n",
      " 'prompt': '/**\\n'\n",
      "           ' * This function counts the number of vowels in a given text and '\n",
      "           'replaces them with asterisks.\\n'\n",
      "           ' */\\n'\n",
      "           'fun countVowels(text: String): Pair<String, Int> {',\n",
      " 'whole_func_string': '/**\\n'\n",
      "                      ' * This function counts the number of vowels in a given '\n",
      "                      'text and replaces them with asterisks.\\n'\n",
      "                      ' */\\n'\n",
      "                      'fun countVowels(text: String): Pair<String, Int> {\\n'\n",
      "                      '\\n'\n",
      "                      \"    val vowels = listOf('a', 'e', 'i', 'o', 'u')\\n\"\n",
      "                      '    var vowelsCount = 0\\n'\n",
      "                      '    var modifiedText = text\\n'\n",
      "                      '\\n'\n",
      "                      '    for (char in text) {\\n'\n",
      "                      '        if (char.toLowerCase() in vowels) {\\n'\n",
      "                      '            modifiedText = '\n",
      "                      'modifiedText.replace(char.toString(), \"*\")\\n'\n",
      "                      '            vowelsCount++\\n'\n",
      "                      '        }\\n'\n",
      "                      '    }\\n'\n",
      "                      '\\n'\n",
      "                      '    return Pair(modifiedText, vowelsCount)\\n'\n",
      "                      '}'}\n"
     ]
    }
   ],
   "execution_count": 3
  },
  {
   "metadata": {},
   "cell_type": "markdown",
   "source": [
    "## DPO Dataset\n",
    "\n",
    "DPO dataset keys:\n",
    "\n",
    "- rejected contains a completion that when concatenated with the prompt doesn't compile. The completion comes from model prediction. Same as above it can possibly be corrupted.\n",
    "\n",
    "    `prompt + \"\\n\" + rejected`\n",
    "\n",
    "- chosen completion compiles and is the dataset reference solution\n",
    "\n",
    "```\n",
    "{\n",
    "    \"prompt\",\n",
    "    \"rejected\",\n",
    "    \"chosen\",\n",
    "}\n",
    "```\n",
    "\n",
    "DPO dataset example:"
   ],
   "id": "15710330e7de3f43"
  },
  {
   "metadata": {
    "ExecuteTime": {
     "end_time": "2025-03-11T21:06:39.517577Z",
     "start_time": "2025-03-11T21:06:35.633682Z"
    }
   },
   "cell_type": "code",
   "source": [
    "dpo_dataset = load_dataset(\"stojchet/deepseek_bs1_kotlin-empty\", split=\"train\", trust_remote_code=True)\n",
    "pprint(dpo_dataset[0])"
   ],
   "id": "9a23e3c57db76964",
   "outputs": [
    {
     "name": "stdout",
     "output_type": "stream",
     "text": [
      "{'code_completion': '\\n'\n",
      "                    \"    val vowels = listOf('a', 'e', 'i', 'o', 'u')\\n\"\n",
      "                    '    var vowelsCount = 0\\n'\n",
      "                    '    var modifiedText = text\\n'\n",
      "                    '\\n'\n",
      "                    '    for (char in text) {\\n'\n",
      "                    '        if (char.toLowerCase() in vowels) {\\n'\n",
      "                    '            modifiedText = '\n",
      "                    'modifiedText.replace(char.toString(), \"*\")\\n'\n",
      "                    '            vowelsCount++\\n'\n",
      "                    '        }\\n'\n",
      "                    '    }\\n'\n",
      "                    '\\n'\n",
      "                    '    return Pair(modifiedText, vowelsCount)\\n'\n",
      "                    '}',\n",
      " 'documentation': '/**\\n'\n",
      "                  ' * This function counts the number of vowels in a given '\n",
      "                  'text and replaces them with asterisks.\\n'\n",
      "                  ' */',\n",
      " 'func_name': 'countVowels',\n",
      " 'function_def': 'fun countVowels(text: String): Pair<String, Int> {',\n",
      " 'language': 'kotlin',\n",
      " 'prediction': '/**\\n'\n",
      "               ' * This function counts the number of vowels in a given text '\n",
      "               'and replaces them with asterisks.\\n'\n",
      "               ' */\\n'\n",
      "               'fun countVowels(text: String): Pair<String, Int> {\\n'\n",
      "               ' // Define the vowels.\\n'\n",
      "               \"    val vowels = mutableListOf<Char>('a', 'e', 'i', 'o', 'u')\\n\"\n",
      "               ' // Loop over the characters of the text.\\n'\n",
      "               '    var newText = text\\n'\n",
      "               '    for ((idx, letter) in text.withIndex()) {\\n'\n",
      "               '        if (vowels.contains(Character.toLowerCase(letter))) {\\n'\n",
      "               '            newText = newText.replaceRange(idx, idx + 1, \"*\")\\n'\n",
      "               '        }\\n'\n",
      "               '    }\\n'\n",
      "               ' // Count the number of vowels.\\n'\n",
      "               '    val vowelCountString = newText.count { c -> '\n",
      "               'vowels.contains(c) }.toString()\\n'\n",
      "               ' // Return the amount of vowels.\\n'\n",
      "               '    return Pair(newText, vowelCountString.toInt())\\n'\n",
      "               '}\\n'\n",
      "               '\\n'\n",
      "               'fun main() {\\n'\n",
      "               '    val text = countVowels(System.console()!!.readLine()!!)\\n'\n",
      "               '    println(\"Original text: ${text.first}\\\\nWords with count: '\n",
      "               '${text.second}\")\\n'\n",
      "               '}\\n',\n",
      " 'prompt': '/**\\n'\n",
      "           ' * This function counts the number of vowels in a given text and '\n",
      "           'replaces them with asterisks.\\n'\n",
      "           ' */\\n'\n",
      "           'fun countVowels(text: String): Pair<String, Int> {',\n",
      " 'whole_func_string': '/**\\n'\n",
      "                      ' * This function counts the number of vowels in a given '\n",
      "                      'text and replaces them with asterisks.\\n'\n",
      "                      ' */\\n'\n",
      "                      'fun countVowels(text: String): Pair<String, Int> {\\n'\n",
      "                      '\\n'\n",
      "                      \"    val vowels = listOf('a', 'e', 'i', 'o', 'u')\\n\"\n",
      "                      '    var vowelsCount = 0\\n'\n",
      "                      '    var modifiedText = text\\n'\n",
      "                      '\\n'\n",
      "                      '    for (char in text) {\\n'\n",
      "                      '        if (char.toLowerCase() in vowels) {\\n'\n",
      "                      '            modifiedText = '\n",
      "                      'modifiedText.replace(char.toString(), \"*\")\\n'\n",
      "                      '            vowelsCount++\\n'\n",
      "                      '        }\\n'\n",
      "                      '    }\\n'\n",
      "                      '\\n'\n",
      "                      '    return Pair(modifiedText, vowelsCount)\\n'\n",
      "                      '}'}\n"
     ]
    }
   ],
   "execution_count": 4
  },
  {
   "metadata": {},
   "cell_type": "markdown",
   "source": [
    "# Dataset analysis\n",
    "\n",
    "## Compilations"
   ],
   "id": "6927960841e0fc4f"
  },
  {
   "metadata": {
    "ExecuteTime": {
     "end_time": "2025-03-11T21:08:17.840563Z",
     "start_time": "2025-03-11T21:08:17.833919Z"
    }
   },
   "cell_type": "code",
   "source": [
    "from src.cf_dataset.compiler import compile_function\n",
    "\n",
    "\n",
    "def count_compiled(dataset, prompt_str: str, completion_str: str):\n",
    "    i = 0\n",
    "    for j, example in enumerate(dataset):\n",
    "        if j > 100:\n",
    "            break\n",
    "        if compile_function[\"kotlin\"](example[prompt_str] + \"\\n\" + example[completion_str]) and len(example[completion_str]) > 0:\n",
    "            i += 1\n",
    "\n",
    "    print(\"Dataset size: \" + str(len(dataset)))\n",
    "    print(\"Examples that compile: \" + str(i))"
   ],
   "id": "f4665a88df4765e7",
   "outputs": [],
   "execution_count": 7
  },
  {
   "metadata": {
    "ExecuteTime": {
     "end_time": "2025-03-11T21:08:39.680035Z",
     "start_time": "2025-03-11T21:08:19.747342Z"
    }
   },
   "cell_type": "code",
   "source": [
    "print(\"KExercises\")\n",
    "count_compiled(kexercises_dataset, \"problem\", \"solution\")"
   ],
   "id": "54ae06989367d6a4",
   "outputs": [
    {
     "name": "stdout",
     "output_type": "stream",
     "text": [
      "KExercises\n"
     ]
    },
    {
     "ename": "FileNotFoundError",
     "evalue": "[Errno 2] No such file or directory: 'out.jar'",
     "output_type": "error",
     "traceback": [
      "\u001B[0;31m---------------------------------------------------------------------------\u001B[0m",
      "\u001B[0;31mFileNotFoundError\u001B[0m                         Traceback (most recent call last)",
      "Cell \u001B[0;32mIn[8], line 2\u001B[0m\n\u001B[1;32m      1\u001B[0m \u001B[38;5;28mprint\u001B[39m(\u001B[38;5;124m\"\u001B[39m\u001B[38;5;124mKExercises\u001B[39m\u001B[38;5;124m\"\u001B[39m)\n\u001B[0;32m----> 2\u001B[0m \u001B[43mcount_compiled\u001B[49m\u001B[43m(\u001B[49m\u001B[43mkexercises_dataset\u001B[49m\u001B[43m,\u001B[49m\u001B[43m \u001B[49m\u001B[38;5;124;43m\"\u001B[39;49m\u001B[38;5;124;43mproblem\u001B[39;49m\u001B[38;5;124;43m\"\u001B[39;49m\u001B[43m,\u001B[49m\u001B[43m \u001B[49m\u001B[38;5;124;43m\"\u001B[39;49m\u001B[38;5;124;43msolution\u001B[39;49m\u001B[38;5;124;43m\"\u001B[39;49m\u001B[43m)\u001B[49m\n",
      "Cell \u001B[0;32mIn[7], line 9\u001B[0m, in \u001B[0;36mcount_compiled\u001B[0;34m(dataset, prompt_str, completion_str)\u001B[0m\n\u001B[1;32m      7\u001B[0m     \u001B[38;5;28;01mif\u001B[39;00m j \u001B[38;5;241m>\u001B[39m \u001B[38;5;241m100\u001B[39m:\n\u001B[1;32m      8\u001B[0m         \u001B[38;5;28;01mbreak\u001B[39;00m\n\u001B[0;32m----> 9\u001B[0m     \u001B[38;5;28;01mif\u001B[39;00m \u001B[43mcompile_function\u001B[49m\u001B[43m[\u001B[49m\u001B[38;5;124;43m\"\u001B[39;49m\u001B[38;5;124;43mkotlin\u001B[39;49m\u001B[38;5;124;43m\"\u001B[39;49m\u001B[43m]\u001B[49m\u001B[43m(\u001B[49m\u001B[43mexample\u001B[49m\u001B[43m[\u001B[49m\u001B[43mprompt_str\u001B[49m\u001B[43m]\u001B[49m\u001B[43m \u001B[49m\u001B[38;5;241;43m+\u001B[39;49m\u001B[43m \u001B[49m\u001B[38;5;124;43m\"\u001B[39;49m\u001B[38;5;130;43;01m\\n\u001B[39;49;00m\u001B[38;5;124;43m\"\u001B[39;49m\u001B[43m \u001B[49m\u001B[38;5;241;43m+\u001B[39;49m\u001B[43m \u001B[49m\u001B[43mexample\u001B[49m\u001B[43m[\u001B[49m\u001B[43mcompletion_str\u001B[49m\u001B[43m]\u001B[49m\u001B[43m)\u001B[49m \u001B[38;5;129;01mand\u001B[39;00m \u001B[38;5;28mlen\u001B[39m(example[completion_str]) \u001B[38;5;241m>\u001B[39m \u001B[38;5;241m0\u001B[39m:\n\u001B[1;32m     10\u001B[0m         i \u001B[38;5;241m+\u001B[39m\u001B[38;5;241m=\u001B[39m \u001B[38;5;241m1\u001B[39m\n\u001B[1;32m     12\u001B[0m \u001B[38;5;28mprint\u001B[39m(\u001B[38;5;124m\"\u001B[39m\u001B[38;5;124mDataset size: \u001B[39m\u001B[38;5;124m\"\u001B[39m \u001B[38;5;241m+\u001B[39m \u001B[38;5;28mstr\u001B[39m(\u001B[38;5;28mlen\u001B[39m(dataset)))\n",
      "File \u001B[0;32m~/JetBrains/Thesis/RLCFModel/src/cf_dataset/compiler/kotlin_compiler.py:12\u001B[0m, in \u001B[0;36mcompiles_kotlin\u001B[0;34m(kotlin_code)\u001B[0m\n\u001B[1;32m      8\u001B[0m \u001B[38;5;28;01mdef\u001B[39;00m \u001B[38;5;21mcompiles_kotlin\u001B[39m(kotlin_code: \u001B[38;5;28mstr\u001B[39m) \u001B[38;5;241m-\u001B[39m\u001B[38;5;241m>\u001B[39m \u001B[38;5;28mbool\u001B[39m:\n\u001B[1;32m      9\u001B[0m \u001B[38;5;250m    \u001B[39m\u001B[38;5;124;03m\"\"\"\u001B[39;00m\n\u001B[1;32m     10\u001B[0m \u001B[38;5;124;03m    Returns a boolean indicating whether the Kotlin code compiled successfully\u001B[39;00m\n\u001B[1;32m     11\u001B[0m \u001B[38;5;124;03m    \"\"\"\u001B[39;00m\n\u001B[0;32m---> 12\u001B[0m     \u001B[38;5;28;01mreturn\u001B[39;00m \u001B[43m__compile_kotlin_code\u001B[49m\u001B[43m(\u001B[49m\u001B[43mkotlin_code\u001B[49m\u001B[43m)\u001B[49m\u001B[38;5;241m.\u001B[39mcode \u001B[38;5;241m==\u001B[39m \u001B[38;5;241m0\u001B[39m\n",
      "File \u001B[0;32m~/JetBrains/Thesis/RLCFModel/src/cf_dataset/compiler/kotlin_compiler.py:51\u001B[0m, in \u001B[0;36m__compile_kotlin_code\u001B[0;34m(kotlin_function, add_in_class)\u001B[0m\n\u001B[1;32m     49\u001B[0m \u001B[38;5;28;01mfinally\u001B[39;00m:\n\u001B[1;32m     50\u001B[0m     os\u001B[38;5;241m.\u001B[39munlink(temp_file_path)\n\u001B[0;32m---> 51\u001B[0m     \u001B[43mos\u001B[49m\u001B[38;5;241;43m.\u001B[39;49m\u001B[43mremove\u001B[49m\u001B[43m(\u001B[49m\u001B[38;5;124;43m\"\u001B[39;49m\u001B[38;5;124;43mout.jar\u001B[39;49m\u001B[38;5;124;43m\"\u001B[39;49m\u001B[43m)\u001B[49m\n",
      "\u001B[0;31mFileNotFoundError\u001B[0m: [Errno 2] No such file or directory: 'out.jar'"
     ]
    }
   ],
   "execution_count": 8
  },
  {
   "metadata": {},
   "cell_type": "code",
   "outputs": [],
   "execution_count": null,
   "source": [
    "from transformers import AutoTokenizer\n",
    "\n",
    "tokenizer = AutoTokenizer.from_pretrained(\"deepseek-ai/deepseek-coder-1.3b-base\", trust_remote_code=True, use_fast=True)"
   ],
   "id": "e1962a4b86653eec"
  },
  {
   "metadata": {},
   "cell_type": "markdown",
   "source": "Distribution of length of problem sent to LLM (docstring + function definition)",
   "id": "87e355fb44808674"
  },
  {
   "metadata": {},
   "cell_type": "code",
   "outputs": [],
   "execution_count": null,
   "source": [
    "from notebooks.util import tokenize_and_bucketize\n",
    "\n",
    "tokenize_and_bucketize(tokenizer, kexercises_dataset, \"problem\", 50)"
   ],
   "id": "5008f9532fffacc6"
  },
  {
   "metadata": {},
   "cell_type": "markdown",
   "source": "Distribution of length of reference solutions of KExercises",
   "id": "387f5d42667eb2e0"
  },
  {
   "metadata": {},
   "cell_type": "code",
   "outputs": [],
   "execution_count": null,
   "source": "tokenize_and_bucketize(tokenizer, kexercises_dataset, \"solution\")",
   "id": "504a0031f24b435a"
  },
  {
   "metadata": {},
   "cell_type": "markdown",
   "source": "Distribution of length of reference solutions of KExercises after filtering",
   "id": "e7ed75080bdc5916"
  },
  {
   "metadata": {},
   "cell_type": "code",
   "outputs": [],
   "execution_count": null,
   "source": "tokenize_and_bucketize(tokenizer, base_dataset, \"code_completion\")",
   "id": "9820d7b5a4eea09e"
  },
  {
   "metadata": {},
   "cell_type": "markdown",
   "source": "Distribution of length of predictions",
   "id": "86dffb367334e807"
  },
  {
   "metadata": {},
   "cell_type": "code",
   "outputs": [],
   "execution_count": null,
   "source": "tokenize_and_bucketize(tokenizer, base_dataset, \"prediction\")",
   "id": "2b9f88cfac2b8ff8"
  },
  {
   "metadata": {},
   "cell_type": "markdown",
   "source": "KTO/DPO dataset sizes",
   "id": "9a94ac5f4652e9ea"
  },
  {
   "metadata": {},
   "cell_type": "code",
   "outputs": [],
   "execution_count": null,
   "source": [
    "print(\"KTO dataset size\")\n",
    "print(kto_dataset.num_rows)\n",
    "\n",
    "print(\"DPO dataset size\")\n",
    "print(dpo_dataset.num_rows)"
   ],
   "id": "ce68e31a9b939279"
  },
  {
   "metadata": {},
   "cell_type": "markdown",
   "source": [
    "# Dataset creations\n",
    "To showcase main functions where processing happens. To make some changes look in the functions.\n",
    "\n",
    "Base dataset"
   ],
   "id": "ef691d0a57975ac1"
  },
  {
   "metadata": {},
   "cell_type": "code",
   "outputs": [],
   "execution_count": null,
   "source": [
    "import torch\n",
    "import gc\n",
    "\n",
    "torch.cuda.empty_cache()\n",
    "gc.collect()"
   ],
   "id": "3d08c362cd76f878"
  },
  {
   "metadata": {},
   "cell_type": "code",
   "outputs": [],
   "execution_count": null,
   "source": [
    "from src.util import get_small_dataset\n",
    "from src.model_impl import Model\n",
    "from src.cf_dataset.util import _collect_predictions\n",
    "\n",
    "# load model and dataset\n",
    "model = Model(name=\"deepseek-ai/deepseek-coder-1.3b-base\", truncation=True)\n",
    "# this is the filtered dataset from KExercises\n",
    "full_seed_dataset = load_dataset(\"stojchet/base_prediction_dataset\", \"kotlin\", split=\"train\", trust_remote_code=True)\n",
    "seed_dataset = get_small_dataset(full_seed_dataset.to_iterable_dataset(), 10)\n",
    "\n",
    "# call model.predict on each \"problem\" and store it in \"prediction\"\n",
    "base_dataset = _collect_predictions(seed_dataset, model, \"\", batch_size=1, split=\"train\", language=\"kotlin\")\n",
    "\n",
    "# after that you can save the dataset\n",
    "base_dataset"
   ],
   "id": "86e395f2b3079e5"
  },
  {
   "metadata": {},
   "cell_type": "markdown",
   "source": "KTO dataset",
   "id": "253af9dacaf657dd"
  },
  {
   "metadata": {},
   "cell_type": "code",
   "outputs": [],
   "execution_count": null,
   "source": [
    "from src.cf_dataset.kto_dataset import create_kto_dataset\n",
    "\n",
    "kto_dataset = create_kto_dataset(base_dataset, \"kotlin\", 0.5)\n",
    "kto_dataset"
   ],
   "id": "877039e18e8e3c78"
  },
  {
   "metadata": {},
   "cell_type": "markdown",
   "source": "DPO dataset",
   "id": "77e033238d15a42e"
  },
  {
   "metadata": {},
   "cell_type": "code",
   "outputs": [],
   "execution_count": null,
   "source": [
    "from src.cf_dataset.dpo_dataset import create_dpo_dataset\n",
    "\n",
    "dpo_dataset = create_dpo_dataset(base_dataset, \"kotlin\", 1.0)\n",
    "dpo_dataset"
   ],
   "id": "f84ae059462282d2"
  }
 ],
 "metadata": {
  "kernelspec": {
   "name": "python3",
   "language": "python",
   "display_name": "Python 3 (ipykernel)"
  }
 },
 "nbformat": 5,
 "nbformat_minor": 9
}
