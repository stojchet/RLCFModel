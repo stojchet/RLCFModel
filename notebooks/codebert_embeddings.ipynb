{
 "cells": [
  {
   "metadata": {},
   "cell_type": "code",
   "outputs": [],
   "execution_count": null,
   "source": [
    "from transformers import AutoTokenizer, AutoModel, pipeline\n",
    "\n",
    "tokenizer = AutoTokenizer.from_pretrained(\"microsoft/codebert-base\")\n",
    "model = AutoModel.from_pretrained(\"microsoft/codebert-base\")\n",
    "\n",
    "special_tokens_dict = {\"cls_token\": \"<CLS>\", 'pad_token': '[PAD]', }\n",
    "tokenizer.add_special_tokens(special_tokens_dict)\n",
    "model.resize_token_embeddings(len(tokenizer))\n",
    "\n",
    "pipe_model = pipeline('feature-extraction', model=model, tokenizer=tokenizer)"
   ],
   "id": "8d423fe2c730ef37"
  },
  {
   "metadata": {},
   "cell_type": "code",
   "outputs": [],
   "execution_count": null,
   "source": "tokenizer.model_max_length",
   "id": "2662d0976f7cd024"
  },
  {
   "metadata": {},
   "cell_type": "code",
   "outputs": [],
   "execution_count": null,
   "source": "sentence = \"small text sample\"",
   "id": "baad299aa9aa0dea"
  },
  {
   "metadata": {},
   "cell_type": "code",
   "outputs": [],
   "execution_count": null,
   "source": [
    "import torch\n",
    "\n",
    "embed_pipe = torch.tensor(pipe_model(sentence))\n",
    "embed_pipe.shape"
   ],
   "id": "336161077fc9ca7f"
  },
  {
   "metadata": {},
   "cell_type": "code",
   "outputs": [],
   "execution_count": null,
   "source": "embed_pipe[0][0].shape",
   "id": "e1b5ac2928346f80"
  },
  {
   "metadata": {},
   "cell_type": "code",
   "outputs": [],
   "execution_count": null,
   "source": [
    "tokenized_sent = torch.tensor(tokenizer.encode(sentence)).unsqueeze(0)\n",
    "embeddings = model(tokenized_sent)\n",
    "embeddings"
   ],
   "id": "cd2baa11f0171e07"
  },
  {
   "metadata": {},
   "cell_type": "code",
   "outputs": [],
   "execution_count": null,
   "source": "embeddings.last_hidden_state.shape",
   "id": "cd7ad549c225054b"
  },
  {
   "metadata": {},
   "cell_type": "code",
   "outputs": [],
   "execution_count": null,
   "source": "embeddings.pooler_output.shape",
   "id": "d3e78a44a71b541c"
  },
  {
   "metadata": {},
   "cell_type": "code",
   "outputs": [],
   "execution_count": null,
   "source": [
    "cls_emb = embeddings.last_hidden_state[0][0]\n",
    "cls_emb.shape"
   ],
   "id": "aec501de0bbdf"
  },
  {
   "metadata": {},
   "cell_type": "code",
   "outputs": [],
   "execution_count": null,
   "source": "all(cls_emb == embed_pipe[0][0])",
   "id": "40f20a090b91a6b4"
  },
  {
   "metadata": {},
   "cell_type": "code",
   "outputs": [],
   "execution_count": null,
   "source": "",
   "id": "4a5d7e089a2e52b8"
  }
 ],
 "metadata": {},
 "nbformat": 5,
 "nbformat_minor": 9
}
