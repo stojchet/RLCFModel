{
 "cells": [
  {
   "metadata": {},
   "cell_type": "code",
   "outputs": [],
   "execution_count": null,
   "source": [
    "import os\n",
    "from external.mxeval.mxeval.data import ROOT, MULTILINGUAL_MBXP_METADATA, MULTILINGUAL_HUMANEVAL_METADATA\n",
    "\n",
    "\n",
    "def get_humaneval_lang_dataset(lang: str):\n",
    "    return os.path.join(ROOT, \"..\", \"data\", \"multilingual_humaneval\", MULTILINGUAL_HUMANEVAL_METADATA[lang])\n",
    "\n",
    "\n",
    "def get_mbxp_lang_dataset(lang: str):\n",
    "    return os.path.join(ROOT, \"..\", \"data\", \"mbxp\", MULTILINGUAL_MBXP_METADATA[lang])\n"
   ],
   "id": "88ce9f58359fa91"
  },
  {
   "metadata": {},
   "cell_type": "code",
   "outputs": [],
   "execution_count": null,
   "source": [
    "from external.mxeval.mxeval.data import read_problems\n",
    "\n",
    "\n",
    "problems = [\n",
    "    read_problems(get_mbxp_lang_dataset(lang))\n",
    "    for lang in [\"javascript\", \"java\", \"ruby\", \"php\", \"python\", \"go\"]\n",
    "]\n",
    "len(problems)"
   ],
   "id": "dd5bfb705b2716e8"
  },
  {
   "metadata": {},
   "cell_type": "code",
   "outputs": [],
   "execution_count": null,
   "source": "problems[0][\"MBJSP/1\"].keys()",
   "id": "3a004a67112d4bb6"
  },
  {
   "metadata": {},
   "cell_type": "code",
   "outputs": [],
   "execution_count": null,
   "source": "problems[0][\"MBJSP/1\"][\"entry_point\"]",
   "id": "dcbc1ec55e4288a1"
  },
  {
   "metadata": {},
   "cell_type": "code",
   "outputs": [],
   "execution_count": null,
   "source": "problems[4][\"MBPP/1\"]",
   "id": "9df6554e48fc4244"
  },
  {
   "metadata": {},
   "cell_type": "code",
   "outputs": [],
   "execution_count": null,
   "source": "[len(dataset) for dataset in problems]",
   "id": "46ccf77571257654"
  },
  {
   "metadata": {},
   "cell_type": "code",
   "outputs": [],
   "execution_count": null,
   "source": [
    "from external.mxeval.mxeval.data import read_problems\n",
    "\n",
    "\n",
    "problems = [\n",
    "    read_problems(get_humaneval_lang_dataset(lang))\n",
    "    for lang in [\"javascript\", \"java\", \"ruby\", \"php\", \"python\", \"go\"]\n",
    "]\n",
    "len(problems)"
   ],
   "id": "8a2cda1c76eda529"
  },
  {
   "metadata": {},
   "cell_type": "code",
   "outputs": [],
   "execution_count": null,
   "source": "problems[0][\"HumanEval_javascript/1\"].keys()",
   "id": "ca7bc1742eb37f57"
  },
  {
   "metadata": {},
   "cell_type": "code",
   "outputs": [],
   "execution_count": null,
   "source": "[len(dataset) for dataset in problems]",
   "id": "f2c8f96d0c7bc771"
  },
  {
   "metadata": {},
   "cell_type": "code",
   "outputs": [],
   "execution_count": null,
   "source": "",
   "id": "e90456dd3233f964"
  }
 ],
 "metadata": {},
 "nbformat": 5,
 "nbformat_minor": 9
}
