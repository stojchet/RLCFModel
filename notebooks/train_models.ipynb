{
 "cells": [
  {
   "metadata": {},
   "cell_type": "code",
   "outputs": [],
   "execution_count": null,
   "source": [
    "# Overview on training models\n",
    "\n",
    "For both SFT/KTO/DPO you have to set up a yaml file with the hyperparameters of the TRL trainer.\n",
    "The sft/kto/dpo classes are only wrappers on top of the TRL class invoking it with the correct hyperparameters.\n",
    "\n",
    "You can check the templates defined in `config` directory.\n",
    "\n",
    "Examples:\n",
    "\n",
    "### SFT"
   ],
   "id": "c522cb92c8797083"
  },
  {
   "metadata": {},
   "cell_type": "code",
   "outputs": [],
   "execution_count": null,
   "source": [
    "from src.util import PROJECT_DIR\n",
    "import os\n",
    "import yaml\n",
    "import tempfile\n",
    "\n",
    "sft_yaml = \"\"\"\n",
    "max_seq_length: 12\n",
    "language: kotlin\n",
    "dataset_size: 10\n",
    "epochs: 1\n",
    "per_device_train_batch_size: 1\n",
    "gradient_accumulation_steps: 1\n",
    "learning_rate: 1.41e-5\n",
    "weight_decay: 0.1\n",
    "no_lora: True\n",
    "lora_r: 64\n",
    "lora_alpha: 16\n",
    "lora_dropout: 0.05\n",
    "dataset_name: stojchet/deepseek_bs1_kotlin-empty\n",
    "base_model: deepseek-ai/deepseek-coder-1.3b-base\n",
    "dataset_ref_field: whole_func_string\n",
    "\"\"\"\n",
    "\n",
    "with tempfile.NamedTemporaryFile(mode='w+', delete=False, suffix=\".yaml\", dir=PROJECT_DIR) as temp_file:\n",
    "    yaml.dump(sft_yaml, temp_file)\n",
    "    temp_file_path = temp_file.name\n",
    "    file_name = os.path.basename(temp_file_path).replace(\".yaml\", \"\")\n",
    "    abs_path = os.path.abspath(temp_file_path)\n",
    "    print(\"File path:\", temp_file.name)  # Print the temp file path\n",
    "    print(file_name)"
   ],
   "id": "37586fb584feeb32"
  },
  {
   "metadata": {},
   "cell_type": "code",
   "outputs": [],
   "execution_count": null,
   "source": [
    "!python3 ../src/model/sft_model.py --config_path=\"\" --config_name=\"$file_name\"\n",
    "! rm \"$abs_path\""
   ],
   "id": "b2d7ffad166bdf94"
  },
  {
   "metadata": {},
   "cell_type": "code",
   "outputs": [],
   "execution_count": null,
   "source": [
    "kto_yaml = \"\"\"\n",
    "max_seq_length: 1500\n",
    "language: kotlin\n",
    "dataset_size: 10000\n",
    "epochs: 1\n",
    "per_device_train_batch_size: 8\n",
    "gradient_accumulation_steps: 16\n",
    "learning_rate: 1.41e-5\n",
    "lora_r: 64\n",
    "lora_alpha: 16\n",
    "lora_dropout: 0.05\n",
    "warmup_ratio: 0.1\n",
    "dataset_name: stojchet/kto-deepseek_bs1_kotlin-empty\n",
    "base_model: deepseek-ai/deepseek-coder-1.3b-base\n",
    "\"\"\"\n",
    "\n",
    "with tempfile.NamedTemporaryFile(mode='w+', delete=False, suffix=\".yaml\", dir=PROJECT_DIR) as temp_file:\n",
    "    yaml.dump(kto_yaml, temp_file)\n",
    "    temp_file_path = temp_file.name\n",
    "    file_name = os.path.basename(temp_file_path).replace(\".yaml\", \"\")\n",
    "    abs_path = os.path.abspath(temp_file_path)\n",
    "    print(\"File path:\", temp_file.name)  # Print the temp file path\n",
    "    print(file_name)"
   ],
   "id": "458fdeac06ee7506"
  },
  {
   "metadata": {},
   "cell_type": "code",
   "outputs": [],
   "execution_count": null,
   "source": [
    "!python3 ../src/model/kto_model.py --config_path=\"\" --config_name=\"$file_name\"\n",
    "! rm \"$abs_path\""
   ],
   "id": "965329c0d78d5689"
  },
  {
   "metadata": {},
   "cell_type": "code",
   "outputs": [],
   "execution_count": null,
   "source": [
    "dpo_yaml = \"\"\"\n",
    "max_seq_length: 1500\n",
    "language: kotlin\n",
    "dataset_size: 10000\n",
    "epochs: 1\n",
    "per_device_train_batch_size: 1\n",
    "gradient_accumulation_steps: 64\n",
    "learning_rate: 1.41e-5\n",
    "lora_r: 64\n",
    "lora_alpha: 16\n",
    "lora_dropout: 0.05\n",
    "dataset_name: stojchet/dpo-deepseek_bs1_kotlin-empty\n",
    "base_model: \"deepseek-ai/deepseek-coder-1.3b-base\"\n",
    "\"\"\""
   ],
   "id": "23bd7c4432e28e1b"
  },
  {
   "metadata": {},
   "cell_type": "code",
   "outputs": [],
   "execution_count": null,
   "source": [
    "!python3 ../src/model/dpo_model.py --config_path=\"\" --config_name=\"$file_name\"\n",
    "! rm \"$abs_path\""
   ],
   "id": "ffad7d71d49be310"
  }
 ],
 "metadata": {},
 "nbformat": 5,
 "nbformat_minor": 9
}
