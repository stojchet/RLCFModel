{
 "cells": [
  {
   "cell_type": "code",
   "execution_count": 1,
   "id": "initial_id",
   "metadata": {
    "collapsed": true,
    "ExecuteTime": {
     "end_time": "2024-04-24T07:50:39.086904Z",
     "start_time": "2024-04-24T07:50:10.593576Z"
    }
   },
   "outputs": [],
   "source": [
    "from datasets import load_dataset\n",
    "\n",
    "dataset = load_dataset(\"code_search_net\", split=\"train\", trust_remote_code=True)"
   ]
  },
  {
   "cell_type": "code",
   "outputs": [
    {
     "data": {
      "text/plain": "1880853"
     },
     "execution_count": 2,
     "metadata": {},
     "output_type": "execute_result"
    }
   ],
   "source": [
    "len(dataset)"
   ],
   "metadata": {
    "collapsed": false,
    "ExecuteTime": {
     "end_time": "2024-04-24T07:50:50.708317Z",
     "start_time": "2024-04-24T07:50:50.701557Z"
    }
   },
   "id": "12e9cbe1c2d08d87",
   "execution_count": 2
  },
  {
   "cell_type": "code",
   "outputs": [
    {
     "data": {
      "text/plain": "{'repository_name': 'adamrehn/ue4cli',\n 'func_path_in_repository': 'ue4cli/Utility.py',\n 'func_name': 'Utility.capture',\n 'whole_func_string': 'def capture(command, input=None, cwd=None, shell=False, raiseOnError=False):\\n\\t\\t\"\"\"\\n\\t\\tExecutes a child process and captures its output\\n\\t\\t\"\"\"\\n\\t\\t\\n\\t\\t# Attempt to execute the child process\\n\\t\\tproc = subprocess.Popen(command, stdin=subprocess.PIPE, stdout=subprocess.PIPE, stderr=subprocess.PIPE, cwd=cwd, shell=shell, universal_newlines=True)\\n\\t\\t(stdout, stderr) = proc.communicate(input)\\n\\t\\t\\n\\t\\t# If the child process failed and we were asked to raise an exception, do so\\n\\t\\tif raiseOnError == True and proc.returncode != 0:\\n\\t\\t\\traise Exception(\\n\\t\\t\\t\\t\\'child process \\' + str(command) +\\n\\t\\t\\t\\t\\' failed with exit code \\' + str(proc.returncode) +\\n\\t\\t\\t\\t\\'\\\\nstdout: \"\\' + stdout + \\'\"\\' +\\n\\t\\t\\t\\t\\'\\\\nstderr: \"\\' + stderr + \\'\"\\'\\n\\t\\t\\t)\\n\\t\\t\\n\\t\\treturn CommandOutput(proc.returncode, stdout, stderr)',\n 'language': 'python',\n 'func_code_string': 'def capture(command, input=None, cwd=None, shell=False, raiseOnError=False):\\n\\t\\t\"\"\"\\n\\t\\tExecutes a child process and captures its output\\n\\t\\t\"\"\"\\n\\t\\t\\n\\t\\t# Attempt to execute the child process\\n\\t\\tproc = subprocess.Popen(command, stdin=subprocess.PIPE, stdout=subprocess.PIPE, stderr=subprocess.PIPE, cwd=cwd, shell=shell, universal_newlines=True)\\n\\t\\t(stdout, stderr) = proc.communicate(input)\\n\\t\\t\\n\\t\\t# If the child process failed and we were asked to raise an exception, do so\\n\\t\\tif raiseOnError == True and proc.returncode != 0:\\n\\t\\t\\traise Exception(\\n\\t\\t\\t\\t\\'child process \\' + str(command) +\\n\\t\\t\\t\\t\\' failed with exit code \\' + str(proc.returncode) +\\n\\t\\t\\t\\t\\'\\\\nstdout: \"\\' + stdout + \\'\"\\' +\\n\\t\\t\\t\\t\\'\\\\nstderr: \"\\' + stderr + \\'\"\\'\\n\\t\\t\\t)\\n\\t\\t\\n\\t\\treturn CommandOutput(proc.returncode, stdout, stderr)',\n 'func_code_tokens': ['def',\n  'capture',\n  '(',\n  'command',\n  ',',\n  'input',\n  '=',\n  'None',\n  ',',\n  'cwd',\n  '=',\n  'None',\n  ',',\n  'shell',\n  '=',\n  'False',\n  ',',\n  'raiseOnError',\n  '=',\n  'False',\n  ')',\n  ':',\n  '# Attempt to execute the child process',\n  'proc',\n  '=',\n  'subprocess',\n  '.',\n  'Popen',\n  '(',\n  'command',\n  ',',\n  'stdin',\n  '=',\n  'subprocess',\n  '.',\n  'PIPE',\n  ',',\n  'stdout',\n  '=',\n  'subprocess',\n  '.',\n  'PIPE',\n  ',',\n  'stderr',\n  '=',\n  'subprocess',\n  '.',\n  'PIPE',\n  ',',\n  'cwd',\n  '=',\n  'cwd',\n  ',',\n  'shell',\n  '=',\n  'shell',\n  ',',\n  'universal_newlines',\n  '=',\n  'True',\n  ')',\n  '(',\n  'stdout',\n  ',',\n  'stderr',\n  ')',\n  '=',\n  'proc',\n  '.',\n  'communicate',\n  '(',\n  'input',\n  ')',\n  '# If the child process failed and we were asked to raise an exception, do so',\n  'if',\n  'raiseOnError',\n  '==',\n  'True',\n  'and',\n  'proc',\n  '.',\n  'returncode',\n  '!=',\n  '0',\n  ':',\n  'raise',\n  'Exception',\n  '(',\n  \"'child process '\",\n  '+',\n  'str',\n  '(',\n  'command',\n  ')',\n  '+',\n  \"' failed with exit code '\",\n  '+',\n  'str',\n  '(',\n  'proc',\n  '.',\n  'returncode',\n  ')',\n  '+',\n  '\\'\\\\nstdout: \"\\'',\n  '+',\n  'stdout',\n  '+',\n  '\\'\"\\'',\n  '+',\n  '\\'\\\\nstderr: \"\\'',\n  '+',\n  'stderr',\n  '+',\n  '\\'\"\\'',\n  ')',\n  'return',\n  'CommandOutput',\n  '(',\n  'proc',\n  '.',\n  'returncode',\n  ',',\n  'stdout',\n  ',',\n  'stderr',\n  ')'],\n 'func_documentation_string': 'Executes a child process and captures its output',\n 'func_documentation_tokens': ['Executes',\n  'a',\n  'child',\n  'process',\n  'and',\n  'captures',\n  'its',\n  'output'],\n 'split_name': 'train',\n 'func_code_url': 'https://github.com/adamrehn/ue4cli/blob/f1c34502c96059e36757b7433da7e98760a75a6f/ue4cli/Utility.py#L111-L129'}"
     },
     "execution_count": 4,
     "metadata": {},
     "output_type": "execute_result"
    }
   ],
   "source": [
    "dataset[2]"
   ],
   "metadata": {
    "collapsed": false,
    "ExecuteTime": {
     "end_time": "2024-04-05T14:06:07.800297Z",
     "start_time": "2024-04-05T14:06:07.791951Z"
    }
   },
   "id": "5fa78d6905b0fbdd",
   "execution_count": 4
  },
  {
   "cell_type": "code",
   "outputs": [
    {
     "data": {
      "text/plain": "['repository_name',\n 'func_path_in_repository',\n 'func_name',\n 'whole_func_string',\n 'language',\n 'func_code_string',\n 'func_code_tokens',\n 'func_documentation_string',\n 'func_documentation_tokens',\n 'split_name',\n 'func_code_url']"
     },
     "execution_count": 3,
     "metadata": {},
     "output_type": "execute_result"
    }
   ],
   "source": [
    "dataset.column_names"
   ],
   "metadata": {
    "collapsed": false,
    "ExecuteTime": {
     "end_time": "2024-04-05T14:01:42.318936Z",
     "start_time": "2024-04-05T14:01:42.315225Z"
    }
   },
   "id": "290882958c8bddce",
   "execution_count": 3
  },
  {
   "cell_type": "code",
   "outputs": [
    {
     "data": {
      "text/plain": "Downloading readme:   0%|          | 0.00/395 [00:00<?, ?B/s]",
      "application/vnd.jupyter.widget-view+json": {
       "version_major": 2,
       "version_minor": 0,
       "model_id": "bfbd122cd51747c39351323ee4bb2d56"
      }
     },
     "metadata": {},
     "output_type": "display_data"
    },
    {
     "name": "stderr",
     "output_type": "stream",
     "text": [
      "Repo card metadata block was not found. Setting CardData to empty.\n",
      "Downloading data: 100%|██████████| 20.9M/20.9M [00:01<00:00, 11.7MB/s]\n",
      "Downloading data: 100%|██████████| 1.11M/1.11M [00:00<00:00, 1.97MB/s]\n"
     ]
    },
    {
     "data": {
      "text/plain": "Generating train split: 0 examples [00:00, ? examples/s]",
      "application/vnd.jupyter.widget-view+json": {
       "version_major": 2,
       "version_minor": 0,
       "model_id": "992cad7d827e4dce947063eb5de0d101"
      }
     },
     "metadata": {},
     "output_type": "display_data"
    },
    {
     "data": {
      "text/plain": "Generating test split: 0 examples [00:00, ? examples/s]",
      "application/vnd.jupyter.widget-view+json": {
       "version_major": 2,
       "version_minor": 0,
       "model_id": "9e24ef3543bf4959a476a7dd87d2b367"
      }
     },
     "metadata": {},
     "output_type": "display_data"
    }
   ],
   "source": [
    "og_dataset = load_dataset('timdettmers/openassistant-guanaco', split=\"train\")"
   ],
   "metadata": {
    "collapsed": false,
    "ExecuteTime": {
     "end_time": "2024-04-05T14:09:00.237524Z",
     "start_time": "2024-04-05T14:08:52.868359Z"
    }
   },
   "id": "1d88ff1c802d584",
   "execution_count": 5
  },
  {
   "cell_type": "code",
   "outputs": [
    {
     "data": {
      "text/plain": "['text']"
     },
     "execution_count": 6,
     "metadata": {},
     "output_type": "execute_result"
    }
   ],
   "source": [
    "og_dataset.column_names"
   ],
   "metadata": {
    "collapsed": false,
    "ExecuteTime": {
     "end_time": "2024-04-05T14:13:40.969265Z",
     "start_time": "2024-04-05T14:13:40.963023Z"
    }
   },
   "id": "4d84f9fcbf58086b",
   "execution_count": 6
  },
  {
   "cell_type": "code",
   "outputs": [
    {
     "data": {
      "text/plain": "{'text': '### Human: Can you write a short introduction about the relevance of the term \"monopsony\" in economics? Please use examples related to potential monopsonies in the labour market and cite relevant research.### Assistant: \"Monopsony\" refers to a market structure where there is only one buyer for a particular good or service. In economics, this term is particularly relevant in the labor market, where a monopsony employer has significant power over the wages and working conditions of their employees. The presence of a monopsony can result in lower wages and reduced employment opportunities for workers, as the employer has little incentive to increase wages or provide better working conditions.\\n\\nRecent research has identified potential monopsonies in industries such as retail and fast food, where a few large companies control a significant portion of the market (Bivens & Mishel, 2013). In these industries, workers often face low wages, limited benefits, and reduced bargaining power, leading to a situation where they are dependent on the employer for their livelihood. This dependence can result in further suppression of wages and a decline in working conditions.\\n\\nOverall, the concept of monopsony is essential to understanding the dynamics of labor markets and the impact of market power on workers. Further research is needed to understand the extent and impact of monopsonies on the economy and to develop policies to address this issue.\\n\\nReferences:\\nBivens, J., & Mishel, L. (2013). The Pay of Corporate Executives and Financial Professionals as Evidence of Rents in Top 1 Percent Incomes. Journal of Economic Perspectives, 27(3), 57-78.### Human: Now explain it to a dog'}"
     },
     "execution_count": 7,
     "metadata": {},
     "output_type": "execute_result"
    }
   ],
   "source": [
    "og_dataset[0]"
   ],
   "metadata": {
    "collapsed": false,
    "ExecuteTime": {
     "end_time": "2024-04-05T14:13:56.754884Z",
     "start_time": "2024-04-05T14:13:56.749390Z"
    }
   },
   "id": "e522185bb681b882",
   "execution_count": 7
  },
  {
   "cell_type": "code",
   "outputs": [],
   "source": [],
   "metadata": {
    "collapsed": false
   },
   "id": "5b61d978398043"
  }
 ],
 "metadata": {
  "kernelspec": {
   "display_name": "Python 3",
   "language": "python",
   "name": "python3"
  },
  "language_info": {
   "codemirror_mode": {
    "name": "ipython",
    "version": 2
   },
   "file_extension": ".py",
   "mimetype": "text/x-python",
   "name": "python",
   "nbconvert_exporter": "python",
   "pygments_lexer": "ipython2",
   "version": "2.7.6"
  }
 },
 "nbformat": 4,
 "nbformat_minor": 5
}
